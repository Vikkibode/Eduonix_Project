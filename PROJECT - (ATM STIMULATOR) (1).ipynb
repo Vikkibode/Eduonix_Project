{
 "cells": [
  {
   "cell_type": "code",
   "execution_count": null,
   "id": "aaaae4fd",
   "metadata": {},
   "outputs": [],
   "source": [
    "class ATM():\n",
    "    \n",
    "    def __init__(self):\n",
    "        self.amount=1000\n",
    "        \n",
    "    def Check_balance(self):\n",
    "        print(\"your account balance is:\",self.amount)\n",
    "        \n",
    "    def Withdraw(self,Amount):\n",
    "        self.amount-=Amount\n",
    "        print(\"Amount successfully Withdraw\")\n",
    "        \n",
    "    def Deposit(self,Amount):\n",
    "        self.amount+=Amount\n",
    "        print(\"Amount successfully Deposited\")\n",
    "        \n",
    "    def Exit(self):\n",
    "        print(\"Exit, Thank you for using ATM !\")\n",
    "        \n",
    "a = ATM()\n",
    "\n",
    "PIN=int(input(\"Enter your PIN: \"))\n",
    "\n",
    "for i in range(0,50):\n",
    "    \n",
    "    print(\"\\n Options:\")\n",
    "    print(\"1.Check_balance\")\n",
    "    print(\"2.withdraw\")\n",
    "    print(\"3.Deposit\")\n",
    "    print(\"4.Exit\")\n",
    "    \n",
    "    option=int(input(\"\\n Select an option:\"))\n",
    "    \n",
    "    if option==1:\n",
    "        a.Check_balance()\n",
    "        \n",
    "    elif option==2:\n",
    "        Amount=float(input(\"Enter amount to be withdraw:\"))\n",
    "        a.Withdraw(Amount)\n",
    "        \n",
    "    elif option==3:\n",
    "        Amount=float(input(\"Enter amount to be deposited:\"))\n",
    "        a.Deposit(Amount)\n",
    "        \n",
    "    elif option==4:\n",
    "        a.Exit()\n",
    "        \n",
    "    else:\n",
    "        print(\"you have select a invalid option\")"
   ]
  },
  {
   "cell_type": "code",
   "execution_count": null,
   "id": "b7d5c339",
   "metadata": {},
   "outputs": [],
   "source": []
  }
 ],
 "metadata": {
  "kernelspec": {
   "display_name": "Python 3 (ipykernel)",
   "language": "python",
   "name": "python3"
  },
  "language_info": {
   "codemirror_mode": {
    "name": "ipython",
    "version": 3
   },
   "file_extension": ".py",
   "mimetype": "text/x-python",
   "name": "python",
   "nbconvert_exporter": "python",
   "pygments_lexer": "ipython3",
   "version": "3.11.4"
  }
 },
 "nbformat": 4,
 "nbformat_minor": 5
}
